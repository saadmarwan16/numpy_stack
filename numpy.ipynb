{
  "nbformat": 4,
  "nbformat_minor": 0,
  "metadata": {
    "colab": {
      "name": "numpy.ipynb",
      "provenance": [],
      "collapsed_sections": [],
      "authorship_tag": "ABX9TyMdUqvQj0cav4WstK0Fmj8R",
      "include_colab_link": true
    },
    "kernelspec": {
      "name": "python3",
      "display_name": "Python 3"
    },
    "language_info": {
      "name": "python"
    }
  },
  "cells": [
    {
      "cell_type": "markdown",
      "metadata": {
        "id": "view-in-github",
        "colab_type": "text"
      },
      "source": [
        "<a href=\"https://colab.research.google.com/github/saadmarwan16/numpy_stack/blob/main/numpy.ipynb\" target=\"_parent\"><img src=\"https://colab.research.google.com/assets/colab-badge.svg\" alt=\"Open In Colab\"/></a>"
      ]
    },
    {
      "cell_type": "code",
      "metadata": {
        "id": "P_9W-dt5AVHC"
      },
      "source": [
        "import numpy as np"
      ],
      "execution_count": null,
      "outputs": []
    },
    {
      "cell_type": "code",
      "metadata": {
        "id": "KXLFfOkCBCr9"
      },
      "source": [
        "L = [1, 2, 3]"
      ],
      "execution_count": null,
      "outputs": []
    },
    {
      "cell_type": "code",
      "metadata": {
        "id": "_y9-bz9LBJOz"
      },
      "source": [
        "A = np.array([1, 2, 3])"
      ],
      "execution_count": null,
      "outputs": []
    },
    {
      "cell_type": "code",
      "metadata": {
        "colab": {
          "base_uri": "https://localhost:8080/"
        },
        "id": "XjGQutFnBL28",
        "outputId": "e3ccea7d-cbe4-4c67-c6b4-96da641eb494"
      },
      "source": [
        "for e in L:\n",
        "    print(e)"
      ],
      "execution_count": null,
      "outputs": [
        {
          "output_type": "stream",
          "text": [
            "1\n",
            "2\n",
            "3\n"
          ],
          "name": "stdout"
        }
      ]
    },
    {
      "cell_type": "code",
      "metadata": {
        "colab": {
          "base_uri": "https://localhost:8080/"
        },
        "id": "MMIb7NjVBckb",
        "outputId": "2090cedc-fe99-46a0-ab1d-8f343b029388"
      },
      "source": [
        "for e in A: \n",
        "    print(e)"
      ],
      "execution_count": null,
      "outputs": [
        {
          "output_type": "stream",
          "text": [
            "1\n",
            "2\n",
            "3\n"
          ],
          "name": "stdout"
        }
      ]
    },
    {
      "cell_type": "code",
      "metadata": {
        "colab": {
          "base_uri": "https://localhost:8080/"
        },
        "id": "A4hqF0NQBe8i",
        "outputId": "1f69da80-887d-401b-e4f2-20890fc2fa09"
      },
      "source": [
        "L.append(4)\n",
        "L"
      ],
      "execution_count": null,
      "outputs": [
        {
          "output_type": "execute_result",
          "data": {
            "text/plain": [
              "[1, 2, 3, 4]"
            ]
          },
          "metadata": {
            "tags": []
          },
          "execution_count": 7
        }
      ]
    },
    {
      "cell_type": "code",
      "metadata": {
        "colab": {
          "base_uri": "https://localhost:8080/"
        },
        "id": "bXhaNbKtBjRv",
        "outputId": "d9bd7af2-3f5a-487c-cc51-eb9102502073"
      },
      "source": [
        "L + [5]"
      ],
      "execution_count": null,
      "outputs": [
        {
          "output_type": "execute_result",
          "data": {
            "text/plain": [
              "[1, 2, 3, 4, 5]"
            ]
          },
          "metadata": {
            "tags": []
          },
          "execution_count": 8
        }
      ]
    },
    {
      "cell_type": "code",
      "metadata": {
        "colab": {
          "base_uri": "https://localhost:8080/"
        },
        "id": "AA-hGkTeB54O",
        "outputId": "6210e317-33fd-4eb0-d028-a59572dcb87d"
      },
      "source": [
        "A + np.array([4])"
      ],
      "execution_count": null,
      "outputs": [
        {
          "output_type": "execute_result",
          "data": {
            "text/plain": [
              "array([5, 6, 7])"
            ]
          },
          "metadata": {
            "tags": []
          },
          "execution_count": 9
        }
      ]
    },
    {
      "cell_type": "code",
      "metadata": {
        "colab": {
          "base_uri": "https://localhost:8080/"
        },
        "id": "noztah0gB_CQ",
        "outputId": "a98e0d3c-c288-4fa0-e3c8-555fa666b6e5"
      },
      "source": [
        "A + np.array([4, 5, 6])"
      ],
      "execution_count": null,
      "outputs": [
        {
          "output_type": "execute_result",
          "data": {
            "text/plain": [
              "array([5, 7, 9])"
            ]
          },
          "metadata": {
            "tags": []
          },
          "execution_count": 10
        }
      ]
    },
    {
      "cell_type": "code",
      "metadata": {
        "colab": {
          "base_uri": "https://localhost:8080/"
        },
        "id": "rNwCS66ECmZo",
        "outputId": "3202e5aa-bea3-40aa-aa08-dfe6f6522f59"
      },
      "source": [
        "2 * A"
      ],
      "execution_count": null,
      "outputs": [
        {
          "output_type": "execute_result",
          "data": {
            "text/plain": [
              "array([2, 4, 6])"
            ]
          },
          "metadata": {
            "tags": []
          },
          "execution_count": 11
        }
      ]
    },
    {
      "cell_type": "code",
      "metadata": {
        "colab": {
          "base_uri": "https://localhost:8080/"
        },
        "id": "kqCcGBwKDMw1",
        "outputId": "792eb1b0-2f6c-4aec-804c-012f7661dcf4"
      },
      "source": [
        "A + A"
      ],
      "execution_count": null,
      "outputs": [
        {
          "output_type": "execute_result",
          "data": {
            "text/plain": [
              "array([2, 4, 6])"
            ]
          },
          "metadata": {
            "tags": []
          },
          "execution_count": 12
        }
      ]
    },
    {
      "cell_type": "code",
      "metadata": {
        "colab": {
          "base_uri": "https://localhost:8080/"
        },
        "id": "aO1VN2wpDPv7",
        "outputId": "19dd8429-909e-44b1-f34e-f0206b9e064c"
      },
      "source": [
        "2 * L"
      ],
      "execution_count": null,
      "outputs": [
        {
          "output_type": "execute_result",
          "data": {
            "text/plain": [
              "[1, 2, 3, 4, 1, 2, 3, 4]"
            ]
          },
          "metadata": {
            "tags": []
          },
          "execution_count": 13
        }
      ]
    },
    {
      "cell_type": "code",
      "metadata": {
        "colab": {
          "base_uri": "https://localhost:8080/"
        },
        "id": "CbrQXj5VDU2f",
        "outputId": "0bf90d28-2e7f-4fc7-acfc-777dc560d770"
      },
      "source": [
        "L + L"
      ],
      "execution_count": null,
      "outputs": [
        {
          "output_type": "execute_result",
          "data": {
            "text/plain": [
              "[1, 2, 3, 4, 1, 2, 3, 4]"
            ]
          },
          "metadata": {
            "tags": []
          },
          "execution_count": 14
        }
      ]
    },
    {
      "cell_type": "code",
      "metadata": {
        "colab": {
          "base_uri": "https://localhost:8080/"
        },
        "id": "bvB-EO9zDX7u",
        "outputId": "f5da4e38-2735-46f3-e4f8-a43bd4fa0c7b"
      },
      "source": [
        "A ** 2"
      ],
      "execution_count": null,
      "outputs": [
        {
          "output_type": "execute_result",
          "data": {
            "text/plain": [
              "array([1, 4, 9])"
            ]
          },
          "metadata": {
            "tags": []
          },
          "execution_count": 15
        }
      ]
    },
    {
      "cell_type": "code",
      "metadata": {
        "colab": {
          "base_uri": "https://localhost:8080/"
        },
        "id": "ZrCcpHLsEGCp",
        "outputId": "3c2ca1f3-c341-41e3-f64a-cb35f14abf7a"
      },
      "source": [
        "np.sqrt(A)"
      ],
      "execution_count": null,
      "outputs": [
        {
          "output_type": "execute_result",
          "data": {
            "text/plain": [
              "array([1.        , 1.41421356, 1.73205081])"
            ]
          },
          "metadata": {
            "tags": []
          },
          "execution_count": 16
        }
      ]
    },
    {
      "cell_type": "code",
      "metadata": {
        "colab": {
          "base_uri": "https://localhost:8080/"
        },
        "id": "v7tvubsAEMHy",
        "outputId": "2a6a9753-565d-4345-c320-6aa5d5beb6df"
      },
      "source": [
        "np.log(A)"
      ],
      "execution_count": null,
      "outputs": [
        {
          "output_type": "execute_result",
          "data": {
            "text/plain": [
              "array([0.        , 0.69314718, 1.09861229])"
            ]
          },
          "metadata": {
            "tags": []
          },
          "execution_count": 17
        }
      ]
    },
    {
      "cell_type": "code",
      "metadata": {
        "colab": {
          "base_uri": "https://localhost:8080/"
        },
        "id": "dPD0cBhmEQ5a",
        "outputId": "ebc97b81-d038-40cb-996f-494fdd6a9dda"
      },
      "source": [
        "np.exp(A)"
      ],
      "execution_count": null,
      "outputs": [
        {
          "output_type": "execute_result",
          "data": {
            "text/plain": [
              "array([ 2.71828183,  7.3890561 , 20.08553692])"
            ]
          },
          "metadata": {
            "tags": []
          },
          "execution_count": 18
        }
      ]
    },
    {
      "cell_type": "code",
      "metadata": {
        "colab": {
          "base_uri": "https://localhost:8080/"
        },
        "id": "_n4Q0b7bEdOd",
        "outputId": "93a4d4c0-db68-4142-a286-78dde1cda4ec"
      },
      "source": [
        "np.tanh(A)"
      ],
      "execution_count": null,
      "outputs": [
        {
          "output_type": "execute_result",
          "data": {
            "text/plain": [
              "array([0.76159416, 0.96402758, 0.99505475])"
            ]
          },
          "metadata": {
            "tags": []
          },
          "execution_count": 19
        }
      ]
    },
    {
      "cell_type": "code",
      "metadata": {
        "id": "8t7MIh6iEwVi"
      },
      "source": [
        ""
      ],
      "execution_count": null,
      "outputs": []
    },
    {
      "cell_type": "code",
      "metadata": {
        "id": "TY_eabP4KKVb"
      },
      "source": [
        "a = np.array([1, 2])\n",
        "b = np.array([3, 4])"
      ],
      "execution_count": null,
      "outputs": []
    },
    {
      "cell_type": "code",
      "metadata": {
        "colab": {
          "base_uri": "https://localhost:8080/"
        },
        "id": "Y5PwYqDgL0RI",
        "outputId": "397148a7-30f5-4528-c57e-895bb15d40c2"
      },
      "source": [
        "dot = 0\n",
        "for i, j in zip(a, b):\n",
        "    dot += i * j\n",
        "\n",
        "dot"
      ],
      "execution_count": null,
      "outputs": [
        {
          "output_type": "execute_result",
          "data": {
            "text/plain": [
              "11"
            ]
          },
          "metadata": {
            "tags": []
          },
          "execution_count": 21
        }
      ]
    },
    {
      "cell_type": "code",
      "metadata": {
        "colab": {
          "base_uri": "https://localhost:8080/"
        },
        "id": "6a2xaqWdL89c",
        "outputId": "41f4ddcb-5b79-43e3-8420-c5be0177e103"
      },
      "source": [
        "dot = 0\n",
        "for i in range(len(a)):\n",
        "    dot += a[i] * b[i]\n",
        "\n",
        "dot"
      ],
      "execution_count": null,
      "outputs": [
        {
          "output_type": "execute_result",
          "data": {
            "text/plain": [
              "11"
            ]
          },
          "metadata": {
            "tags": []
          },
          "execution_count": 22
        }
      ]
    },
    {
      "cell_type": "code",
      "metadata": {
        "colab": {
          "base_uri": "https://localhost:8080/"
        },
        "id": "o24WY7UPMeL7",
        "outputId": "9a8f709f-760c-4b53-e1ff-b99950d21ae9"
      },
      "source": [
        "np.sum(a)"
      ],
      "execution_count": null,
      "outputs": [
        {
          "output_type": "execute_result",
          "data": {
            "text/plain": [
              "3"
            ]
          },
          "metadata": {
            "tags": []
          },
          "execution_count": 23
        }
      ]
    },
    {
      "cell_type": "code",
      "metadata": {
        "colab": {
          "base_uri": "https://localhost:8080/"
        },
        "id": "3FjyPs65Mhb5",
        "outputId": "70af06d6-b235-488d-e540-36cca03e9e14"
      },
      "source": [
        "a.sum()"
      ],
      "execution_count": null,
      "outputs": [
        {
          "output_type": "execute_result",
          "data": {
            "text/plain": [
              "3"
            ]
          },
          "metadata": {
            "tags": []
          },
          "execution_count": 24
        }
      ]
    },
    {
      "cell_type": "code",
      "metadata": {
        "colab": {
          "base_uri": "https://localhost:8080/"
        },
        "id": "VFjU4aavMkr6",
        "outputId": "162a83f1-dfe7-4dd4-f2f0-3d6b5d3fa0c7"
      },
      "source": [
        "a * b"
      ],
      "execution_count": null,
      "outputs": [
        {
          "output_type": "execute_result",
          "data": {
            "text/plain": [
              "array([3, 8])"
            ]
          },
          "metadata": {
            "tags": []
          },
          "execution_count": 25
        }
      ]
    },
    {
      "cell_type": "code",
      "metadata": {
        "colab": {
          "base_uri": "https://localhost:8080/"
        },
        "id": "EjZqlpsGMs3v",
        "outputId": "5b680c13-b4e2-448f-c079-1d923644ae58"
      },
      "source": [
        "np.sum(a * b)"
      ],
      "execution_count": null,
      "outputs": [
        {
          "output_type": "execute_result",
          "data": {
            "text/plain": [
              "11"
            ]
          },
          "metadata": {
            "tags": []
          },
          "execution_count": 26
        }
      ]
    },
    {
      "cell_type": "code",
      "metadata": {
        "colab": {
          "base_uri": "https://localhost:8080/"
        },
        "id": "-5AEvYMeM0EX",
        "outputId": "fd577319-aaaa-44da-b9ce-b14df079eb4e"
      },
      "source": [
        "(a * b).sum()"
      ],
      "execution_count": null,
      "outputs": [
        {
          "output_type": "execute_result",
          "data": {
            "text/plain": [
              "11"
            ]
          },
          "metadata": {
            "tags": []
          },
          "execution_count": 27
        }
      ]
    },
    {
      "cell_type": "code",
      "metadata": {
        "colab": {
          "base_uri": "https://localhost:8080/"
        },
        "id": "kqincvh4M3pO",
        "outputId": "02878a6e-b011-4a3b-b507-030ef0890e81"
      },
      "source": [
        "np.dot(a, b)"
      ],
      "execution_count": null,
      "outputs": [
        {
          "output_type": "execute_result",
          "data": {
            "text/plain": [
              "11"
            ]
          },
          "metadata": {
            "tags": []
          },
          "execution_count": 28
        }
      ]
    },
    {
      "cell_type": "code",
      "metadata": {
        "colab": {
          "base_uri": "https://localhost:8080/"
        },
        "id": "SF8fhJ1wNDCV",
        "outputId": "da3e3d0b-baea-45be-81ef-8f5e6a74a6e3"
      },
      "source": [
        "a.dot(b)"
      ],
      "execution_count": null,
      "outputs": [
        {
          "output_type": "execute_result",
          "data": {
            "text/plain": [
              "11"
            ]
          },
          "metadata": {
            "tags": []
          },
          "execution_count": 29
        }
      ]
    },
    {
      "cell_type": "code",
      "metadata": {
        "colab": {
          "base_uri": "https://localhost:8080/"
        },
        "id": "ZQqQrRlGNE9z",
        "outputId": "d325836e-542b-4074-c6a7-ef79c49eea53"
      },
      "source": [
        "a @ b"
      ],
      "execution_count": null,
      "outputs": [
        {
          "output_type": "execute_result",
          "data": {
            "text/plain": [
              "11"
            ]
          },
          "metadata": {
            "tags": []
          },
          "execution_count": 30
        }
      ]
    },
    {
      "cell_type": "code",
      "metadata": {
        "colab": {
          "base_uri": "https://localhost:8080/"
        },
        "id": "DyB0BnGvNGOS",
        "outputId": "af593db5-6115-47e3-aa0b-2296449e120e"
      },
      "source": [
        "amag = np.sqrt((a * a).sum())\n",
        "amag"
      ],
      "execution_count": null,
      "outputs": [
        {
          "output_type": "execute_result",
          "data": {
            "text/plain": [
              "2.23606797749979"
            ]
          },
          "metadata": {
            "tags": []
          },
          "execution_count": 31
        }
      ]
    },
    {
      "cell_type": "code",
      "metadata": {
        "colab": {
          "base_uri": "https://localhost:8080/"
        },
        "id": "jB-LI7RNO1up",
        "outputId": "41eb33f7-884c-443f-f5b9-7e11b8736bd2"
      },
      "source": [
        "amag = np.sqrt(a.dot(a))\n",
        "amag"
      ],
      "execution_count": null,
      "outputs": [
        {
          "output_type": "execute_result",
          "data": {
            "text/plain": [
              "2.23606797749979"
            ]
          },
          "metadata": {
            "tags": []
          },
          "execution_count": 32
        }
      ]
    },
    {
      "cell_type": "code",
      "metadata": {
        "colab": {
          "base_uri": "https://localhost:8080/"
        },
        "id": "W_NXfraHPJP7",
        "outputId": "ef0f8db5-3448-4ce5-ae67-d3886827cff3"
      },
      "source": [
        "np.linalg.norm(a)"
      ],
      "execution_count": null,
      "outputs": [
        {
          "output_type": "execute_result",
          "data": {
            "text/plain": [
              "2.23606797749979"
            ]
          },
          "metadata": {
            "tags": []
          },
          "execution_count": 33
        }
      ]
    },
    {
      "cell_type": "code",
      "metadata": {
        "colab": {
          "base_uri": "https://localhost:8080/"
        },
        "id": "Ubk8jWkpPUZT",
        "outputId": "b98bc946-13d5-4e8a-a72f-2c313e3b9b74"
      },
      "source": [
        "cosangle = a.dot(b) / (np.linalg.norm(a) * np.linalg.norm(b))\n",
        "cosangle"
      ],
      "execution_count": null,
      "outputs": [
        {
          "output_type": "execute_result",
          "data": {
            "text/plain": [
              "0.9838699100999074"
            ]
          },
          "metadata": {
            "tags": []
          },
          "execution_count": 34
        }
      ]
    },
    {
      "cell_type": "code",
      "metadata": {
        "colab": {
          "base_uri": "https://localhost:8080/"
        },
        "id": "JjOm-DSwP5FT",
        "outputId": "5520b830-9b70-4ba7-830a-a4a3444ed90a"
      },
      "source": [
        "angle = np.arccos(cosangle)\n",
        "angle"
      ],
      "execution_count": null,
      "outputs": [
        {
          "output_type": "execute_result",
          "data": {
            "text/plain": [
              "0.17985349979247847"
            ]
          },
          "metadata": {
            "tags": []
          },
          "execution_count": 35
        }
      ]
    },
    {
      "cell_type": "code",
      "metadata": {
        "colab": {
          "base_uri": "https://localhost:8080/"
        },
        "id": "yVCeSyocQJmI",
        "outputId": "42f2a71a-c1ed-40a8-cfd1-6b5c54dd0266"
      },
      "source": [
        "amat = np.array([[1, 2], [3, 4]])\n",
        "amat"
      ],
      "execution_count": null,
      "outputs": [
        {
          "output_type": "execute_result",
          "data": {
            "text/plain": [
              "array([[1, 2],\n",
              "       [3, 4]])"
            ]
          },
          "metadata": {
            "tags": []
          },
          "execution_count": 36
        }
      ]
    },
    {
      "cell_type": "code",
      "metadata": {
        "colab": {
          "base_uri": "https://localhost:8080/"
        },
        "id": "vaWQYvIbQmVj",
        "outputId": "7b8d7d0a-0b97-47f6-d40e-4532fcf2804c"
      },
      "source": [
        "amat[0][1]"
      ],
      "execution_count": null,
      "outputs": [
        {
          "output_type": "execute_result",
          "data": {
            "text/plain": [
              "2"
            ]
          },
          "metadata": {
            "tags": []
          },
          "execution_count": 37
        }
      ]
    },
    {
      "cell_type": "code",
      "metadata": {
        "colab": {
          "base_uri": "https://localhost:8080/"
        },
        "id": "A1eZbZv9UmFO",
        "outputId": "896fea2c-65e9-4214-859f-b80819ccd79c"
      },
      "source": [
        "amat[0, 1]"
      ],
      "execution_count": null,
      "outputs": [
        {
          "output_type": "execute_result",
          "data": {
            "text/plain": [
              "2"
            ]
          },
          "metadata": {
            "tags": []
          },
          "execution_count": 38
        }
      ]
    },
    {
      "cell_type": "code",
      "metadata": {
        "colab": {
          "base_uri": "https://localhost:8080/"
        },
        "id": "A83IAzUuUoNg",
        "outputId": "4c231c01-0a94-4fd2-8259-292b331472e3"
      },
      "source": [
        "amat[:, 0]"
      ],
      "execution_count": null,
      "outputs": [
        {
          "output_type": "execute_result",
          "data": {
            "text/plain": [
              "array([1, 3])"
            ]
          },
          "metadata": {
            "tags": []
          },
          "execution_count": 39
        }
      ]
    },
    {
      "cell_type": "code",
      "metadata": {
        "colab": {
          "base_uri": "https://localhost:8080/"
        },
        "id": "EjgO8vTMU18G",
        "outputId": "9e881c92-3174-4bc4-a0e6-51c5b7c58dae"
      },
      "source": [
        "amat.T"
      ],
      "execution_count": null,
      "outputs": [
        {
          "output_type": "execute_result",
          "data": {
            "text/plain": [
              "array([[1, 3],\n",
              "       [2, 4]])"
            ]
          },
          "metadata": {
            "tags": []
          },
          "execution_count": 40
        }
      ]
    },
    {
      "cell_type": "code",
      "metadata": {
        "colab": {
          "base_uri": "https://localhost:8080/"
        },
        "id": "nrgslzSTU4uF",
        "outputId": "f5a222e5-20ce-48cf-db40-653c8402f449"
      },
      "source": [
        "np.exp(amat)"
      ],
      "execution_count": null,
      "outputs": [
        {
          "output_type": "execute_result",
          "data": {
            "text/plain": [
              "array([[ 2.71828183,  7.3890561 ],\n",
              "       [20.08553692, 54.59815003]])"
            ]
          },
          "metadata": {
            "tags": []
          },
          "execution_count": 41
        }
      ]
    },
    {
      "cell_type": "code",
      "metadata": {
        "colab": {
          "base_uri": "https://localhost:8080/"
        },
        "id": "9EjxxPk8VjLZ",
        "outputId": "5e88742f-7945-46e1-ffdb-3aaa346e3bf4"
      },
      "source": [
        "bmat = np.array([[1, 2, 3], [4, 5, 6]])\n",
        "bmat"
      ],
      "execution_count": null,
      "outputs": [
        {
          "output_type": "execute_result",
          "data": {
            "text/plain": [
              "array([[1, 2, 3],\n",
              "       [4, 5, 6]])"
            ]
          },
          "metadata": {
            "tags": []
          },
          "execution_count": 42
        }
      ]
    },
    {
      "cell_type": "code",
      "metadata": {
        "colab": {
          "base_uri": "https://localhost:8080/"
        },
        "id": "R88qBW4jWV7F",
        "outputId": "11f1fbf8-0ab0-499f-864a-b1bdeb3ac577"
      },
      "source": [
        "amat.dot(bmat)"
      ],
      "execution_count": null,
      "outputs": [
        {
          "output_type": "execute_result",
          "data": {
            "text/plain": [
              "array([[ 9, 12, 15],\n",
              "       [19, 26, 33]])"
            ]
          },
          "metadata": {
            "tags": []
          },
          "execution_count": 43
        }
      ]
    },
    {
      "cell_type": "code",
      "metadata": {
        "colab": {
          "base_uri": "https://localhost:8080/"
        },
        "id": "bZ3DXOTPWiFo",
        "outputId": "bf86443e-27cd-42e5-c83c-3ed22a1aed75"
      },
      "source": [
        "np.linalg.det(amat)"
      ],
      "execution_count": null,
      "outputs": [
        {
          "output_type": "execute_result",
          "data": {
            "text/plain": [
              "-2.0000000000000004"
            ]
          },
          "metadata": {
            "tags": []
          },
          "execution_count": 44
        }
      ]
    },
    {
      "cell_type": "code",
      "metadata": {
        "colab": {
          "base_uri": "https://localhost:8080/"
        },
        "id": "UndLqOMVXgvO",
        "outputId": "3e86c01f-d9b2-4c46-fc1d-91d6c7392e75"
      },
      "source": [
        "np.linalg.inv(amat)"
      ],
      "execution_count": null,
      "outputs": [
        {
          "output_type": "execute_result",
          "data": {
            "text/plain": [
              "array([[-2. ,  1. ],\n",
              "       [ 1.5, -0.5]])"
            ]
          },
          "metadata": {
            "tags": []
          },
          "execution_count": 45
        }
      ]
    },
    {
      "cell_type": "code",
      "metadata": {
        "colab": {
          "base_uri": "https://localhost:8080/"
        },
        "id": "YMMUdB7TXkLj",
        "outputId": "7969cd70-5008-4b99-b9d1-20c87f90873c"
      },
      "source": [
        "np.linalg.inv(amat).dot(amat)"
      ],
      "execution_count": null,
      "outputs": [
        {
          "output_type": "execute_result",
          "data": {
            "text/plain": [
              "array([[1.00000000e+00, 0.00000000e+00],\n",
              "       [1.11022302e-16, 1.00000000e+00]])"
            ]
          },
          "metadata": {
            "tags": []
          },
          "execution_count": 46
        }
      ]
    },
    {
      "cell_type": "code",
      "metadata": {
        "colab": {
          "base_uri": "https://localhost:8080/"
        },
        "id": "AnzpWnHpYinw",
        "outputId": "98f5895f-fad1-4d6e-999d-6dec68c6ce11"
      },
      "source": [
        "np.trace(amat)"
      ],
      "execution_count": null,
      "outputs": [
        {
          "output_type": "execute_result",
          "data": {
            "text/plain": [
              "5"
            ]
          },
          "metadata": {
            "tags": []
          },
          "execution_count": 47
        }
      ]
    },
    {
      "cell_type": "code",
      "metadata": {
        "colab": {
          "base_uri": "https://localhost:8080/"
        },
        "id": "YoNlAPT7ZFIq",
        "outputId": "bdce3cf0-888e-4c67-fc63-3b9a56d2b827"
      },
      "source": [
        "np.diag(amat)"
      ],
      "execution_count": null,
      "outputs": [
        {
          "output_type": "execute_result",
          "data": {
            "text/plain": [
              "array([1, 4])"
            ]
          },
          "metadata": {
            "tags": []
          },
          "execution_count": 48
        }
      ]
    },
    {
      "cell_type": "code",
      "metadata": {
        "colab": {
          "base_uri": "https://localhost:8080/"
        },
        "id": "f_UOzcDwZ1yW",
        "outputId": "f4cc9398-6ca7-44bc-9532-800539284519"
      },
      "source": [
        "np.diag([1, 4])"
      ],
      "execution_count": null,
      "outputs": [
        {
          "output_type": "execute_result",
          "data": {
            "text/plain": [
              "array([[1, 0],\n",
              "       [0, 4]])"
            ]
          },
          "metadata": {
            "tags": []
          },
          "execution_count": 49
        }
      ]
    },
    {
      "cell_type": "code",
      "metadata": {
        "colab": {
          "base_uri": "https://localhost:8080/"
        },
        "id": "JseWUhkVZ4ax",
        "outputId": "0d9a653b-94f6-460e-97cb-b18e6fcd7df4"
      },
      "source": [
        "np.trace(np.diag([1, 4]))"
      ],
      "execution_count": null,
      "outputs": [
        {
          "output_type": "execute_result",
          "data": {
            "text/plain": [
              "5"
            ]
          },
          "metadata": {
            "tags": []
          },
          "execution_count": 50
        }
      ]
    },
    {
      "cell_type": "code",
      "metadata": {
        "id": "DppeI7TNZ6bk"
      },
      "source": [
        "# np.linalg.eigh() used to find the eighen values and eighen vectors\n",
        "# np.allclose() used to correct floating point inprecision"
      ],
      "execution_count": null,
      "outputs": []
    },
    {
      "cell_type": "code",
      "metadata": {
        "id": "eJyfp9ebhrEY"
      },
      "source": [
        "# x = np.linalg.solve(a, b)   yes\n",
        "# x = np.linalg.inv(a).dot(b)     no"
      ],
      "execution_count": null,
      "outputs": []
    },
    {
      "cell_type": "code",
      "metadata": {
        "colab": {
          "base_uri": "https://localhost:8080/"
        },
        "id": "nEjOrJrAh4yh",
        "outputId": "d45fc3dc-f397-47c8-b702-a1f0897d8267"
      },
      "source": [
        "# x1 + x2 = 2200\n",
        "# 1.5x1 + 4x2 = 5050\n",
        "\n",
        "a = np.array([[1, 1], [1.5, 4]])\n",
        "b = np.array([2200, 5050])\n",
        "np.linalg.solve(a, b)"
      ],
      "execution_count": null,
      "outputs": [
        {
          "output_type": "execute_result",
          "data": {
            "text/plain": [
              "array([1500.,  700.])"
            ]
          },
          "metadata": {
            "tags": []
          },
          "execution_count": 53
        }
      ]
    },
    {
      "cell_type": "code",
      "metadata": {
        "colab": {
          "base_uri": "https://localhost:8080/"
        },
        "id": "Q6PJLyM7illh",
        "outputId": "4aea3a1c-2a88-4196-bad0-a0bd00d78f1b"
      },
      "source": [
        "np.zeros((2, 3))"
      ],
      "execution_count": null,
      "outputs": [
        {
          "output_type": "execute_result",
          "data": {
            "text/plain": [
              "array([[0., 0., 0.],\n",
              "       [0., 0., 0.]])"
            ]
          },
          "metadata": {
            "tags": []
          },
          "execution_count": 54
        }
      ]
    },
    {
      "cell_type": "code",
      "metadata": {
        "colab": {
          "base_uri": "https://localhost:8080/"
        },
        "id": "C8LCT5ZOj_GY",
        "outputId": "adfa7eb7-26cf-4f64-8dc3-c47f46d7da65"
      },
      "source": [
        "np.ones((2, 3))"
      ],
      "execution_count": null,
      "outputs": [
        {
          "output_type": "execute_result",
          "data": {
            "text/plain": [
              "array([[1., 1., 1.],\n",
              "       [1., 1., 1.]])"
            ]
          },
          "metadata": {
            "tags": []
          },
          "execution_count": 55
        }
      ]
    },
    {
      "cell_type": "code",
      "metadata": {
        "colab": {
          "base_uri": "https://localhost:8080/"
        },
        "id": "OsLUf8F1kCMi",
        "outputId": "e30d14cc-3c9e-4fb4-873e-d0a1db029d24"
      },
      "source": [
        "# n * np.ones((2, 3))   where (2, 3) can be any tuple of any dimension\n",
        "\n",
        "10 * np.ones((2, 3))"
      ],
      "execution_count": null,
      "outputs": [
        {
          "output_type": "execute_result",
          "data": {
            "text/plain": [
              "array([[10., 10., 10.],\n",
              "       [10., 10., 10.]])"
            ]
          },
          "metadata": {
            "tags": []
          },
          "execution_count": 56
        }
      ]
    },
    {
      "cell_type": "code",
      "metadata": {
        "colab": {
          "base_uri": "https://localhost:8080/"
        },
        "id": "tadLm_pCkoCf",
        "outputId": "b54254b4-b36a-44f9-a85a-e92371000d16"
      },
      "source": [
        "# identity matrix. The determinant of any identity matrix is 1.0\n",
        "np.eye(3)"
      ],
      "execution_count": null,
      "outputs": [
        {
          "output_type": "execute_result",
          "data": {
            "text/plain": [
              "array([[1., 0., 0.],\n",
              "       [0., 1., 0.],\n",
              "       [0., 0., 1.]])"
            ]
          },
          "metadata": {
            "tags": []
          },
          "execution_count": 57
        }
      ]
    },
    {
      "cell_type": "code",
      "metadata": {
        "colab": {
          "base_uri": "https://localhost:8080/"
        },
        "id": "9BT6MMa0lEzd",
        "outputId": "feb2e711-53a8-45a0-de49-315d6aebc29d"
      },
      "source": [
        "np.random.random()"
      ],
      "execution_count": null,
      "outputs": [
        {
          "output_type": "execute_result",
          "data": {
            "text/plain": [
              "0.7380816930735945"
            ]
          },
          "metadata": {
            "tags": []
          },
          "execution_count": 58
        }
      ]
    },
    {
      "cell_type": "code",
      "metadata": {
        "colab": {
          "base_uri": "https://localhost:8080/"
        },
        "id": "-pOANslllH4W",
        "outputId": "65f0d52e-baa4-458d-894c-9c044faa045e"
      },
      "source": [
        "np.random.random((2, 3))"
      ],
      "execution_count": null,
      "outputs": [
        {
          "output_type": "execute_result",
          "data": {
            "text/plain": [
              "array([[0.77449588, 0.23575552, 0.02436573],\n",
              "       [0.69174482, 0.57390012, 0.09573539]])"
            ]
          },
          "metadata": {
            "tags": []
          },
          "execution_count": 59
        }
      ]
    },
    {
      "cell_type": "code",
      "metadata": {
        "colab": {
          "base_uri": "https://localhost:8080/"
        },
        "id": "nTp5jpO8lxsw",
        "outputId": "13d94b0d-1366-4138-bf84-5dad512fcaaa"
      },
      "source": [
        "np.random.randn(2, 3)"
      ],
      "execution_count": null,
      "outputs": [
        {
          "output_type": "execute_result",
          "data": {
            "text/plain": [
              "array([[-1.31926052,  1.69814716,  1.19133216],\n",
              "       [-1.07127912,  0.34549225, -0.94804488]])"
            ]
          },
          "metadata": {
            "tags": []
          },
          "execution_count": 60
        }
      ]
    },
    {
      "cell_type": "code",
      "metadata": {
        "colab": {
          "base_uri": "https://localhost:8080/"
        },
        "id": "ZBHTgRDEmLYp",
        "outputId": "790a2491-3d17-44f7-80e8-3ba1eec2f4cd"
      },
      "source": [
        "norm_dist = np.random.randn(100000)\n",
        "np.mean(norm_dist)"
      ],
      "execution_count": null,
      "outputs": [
        {
          "output_type": "execute_result",
          "data": {
            "text/plain": [
              "-0.0005647759629397011"
            ]
          },
          "metadata": {
            "tags": []
          },
          "execution_count": 61
        }
      ]
    },
    {
      "cell_type": "code",
      "metadata": {
        "colab": {
          "base_uri": "https://localhost:8080/"
        },
        "id": "42ONy_lkmx0H",
        "outputId": "143664f2-b82b-433d-ba46-adb74e09e2b1"
      },
      "source": [
        "np.var(norm_dist)"
      ],
      "execution_count": null,
      "outputs": [
        {
          "output_type": "execute_result",
          "data": {
            "text/plain": [
              "1.0069184421162702"
            ]
          },
          "metadata": {
            "tags": []
          },
          "execution_count": 62
        }
      ]
    },
    {
      "cell_type": "code",
      "metadata": {
        "colab": {
          "base_uri": "https://localhost:8080/"
        },
        "id": "ap9Xvh-xnLTc",
        "outputId": "067a2825-fa53-47d8-aa75-2724992a7772"
      },
      "source": [
        "np.std(norm_dist)"
      ],
      "execution_count": null,
      "outputs": [
        {
          "output_type": "execute_result",
          "data": {
            "text/plain": [
              "1.0034532585607914"
            ]
          },
          "metadata": {
            "tags": []
          },
          "execution_count": 63
        }
      ]
    },
    {
      "cell_type": "code",
      "metadata": {
        "colab": {
          "base_uri": "https://localhost:8080/"
        },
        "id": "DNPfaisOnUcA",
        "outputId": "4d9fe457-6a5e-42f8-985d-292fb0556989"
      },
      "source": [
        "mat_dist = np.random.randn(10000, 3)\n",
        "mat_dist"
      ],
      "execution_count": null,
      "outputs": [
        {
          "output_type": "execute_result",
          "data": {
            "text/plain": [
              "array([[ 0.80444916,  0.46492749, -0.47969907],\n",
              "       [-1.08704719, -0.92429472, -1.46422942],\n",
              "       [-0.37111275, -2.23087459, -0.82002328],\n",
              "       ...,\n",
              "       [-0.01105841, -0.68435248,  0.22748967],\n",
              "       [ 0.61189758, -0.94711836,  0.03789982],\n",
              "       [-1.35113101,  0.50933158,  0.77735054]])"
            ]
          },
          "metadata": {
            "tags": []
          },
          "execution_count": 2
        }
      ]
    },
    {
      "cell_type": "code",
      "metadata": {
        "colab": {
          "base_uri": "https://localhost:8080/"
        },
        "id": "drTOI2_WnsjB",
        "outputId": "5ccae4a9-8d52-44a4-c74b-033b99e1e3a8"
      },
      "source": [
        "np.mean(mat_dist)"
      ],
      "execution_count": null,
      "outputs": [
        {
          "output_type": "execute_result",
          "data": {
            "text/plain": [
              "0.001121815456641095"
            ]
          },
          "metadata": {
            "tags": []
          },
          "execution_count": 65
        }
      ]
    },
    {
      "cell_type": "code",
      "metadata": {
        "colab": {
          "base_uri": "https://localhost:8080/"
        },
        "id": "1qby-W1wn_Z4",
        "outputId": "4bd2e8a7-1bcc-45fb-d76f-5797d3e854a9"
      },
      "source": [
        "np.mean(mat_dist, axis=0)"
      ],
      "execution_count": null,
      "outputs": [
        {
          "output_type": "execute_result",
          "data": {
            "text/plain": [
              "array([-0.00221907,  0.0016133 ,  0.00397122])"
            ]
          },
          "metadata": {
            "tags": []
          },
          "execution_count": 66
        }
      ]
    },
    {
      "cell_type": "code",
      "metadata": {
        "colab": {
          "base_uri": "https://localhost:8080/"
        },
        "id": "PHkftwshoD4i",
        "outputId": "ddcebf35-e1e3-4a6a-d5c4-30b4e81ce30d"
      },
      "source": [
        "np.mean(mat_dist, axis=1)"
      ],
      "execution_count": null,
      "outputs": [
        {
          "output_type": "execute_result",
          "data": {
            "text/plain": [
              "array([ 0.12970504, -0.15949173,  0.96098031, ..., -0.48906558,\n",
              "        0.6850114 ,  0.05548463])"
            ]
          },
          "metadata": {
            "tags": []
          },
          "execution_count": 67
        }
      ]
    },
    {
      "cell_type": "code",
      "metadata": {
        "colab": {
          "base_uri": "https://localhost:8080/"
        },
        "id": "cf99-J7PoLyu",
        "outputId": "796c553b-b634-4b5c-ef72-5a9d886e8e62"
      },
      "source": [
        "np.mean(mat_dist, axis=1).shape"
      ],
      "execution_count": null,
      "outputs": [
        {
          "output_type": "execute_result",
          "data": {
            "text/plain": [
              "(100000,)"
            ]
          },
          "metadata": {
            "tags": []
          },
          "execution_count": 68
        }
      ]
    },
    {
      "cell_type": "code",
      "metadata": {
        "colab": {
          "base_uri": "https://localhost:8080/"
        },
        "id": "RZtE0guGoP05",
        "outputId": "1d203cbb-a5b5-4c30-bd15-4ada1bf0db5b"
      },
      "source": [
        "np.cov(mat_dist)"
      ],
      "execution_count": null,
      "outputs": [
        {
          "output_type": "execute_result",
          "data": {
            "text/plain": [
              "array([[ 0.44277183,  0.15652276, -0.02080508, ..., -0.15651391,\n",
              "         0.0559906 , -0.60302184],\n",
              "       [ 0.15652276,  0.07671405, -0.14918789, ..., -0.11531527,\n",
              "        -0.09484624, -0.10745721],\n",
              "       [-0.02080508, -0.14918789,  0.94178937, ...,  0.40525893,\n",
              "         0.7577977 , -0.6728967 ],\n",
              "       ...,\n",
              "       [-0.15651391, -0.11531527,  0.40525893, ...,  0.22361437,\n",
              "         0.30182187, -0.08341705],\n",
              "       [ 0.0559906 , -0.09484624,  0.7577977 , ...,  0.30182187,\n",
              "         0.62171082, -0.64303849],\n",
              "       [-0.60302184, -0.10745721, -0.6728967 , ..., -0.08341705,\n",
              "        -0.64303849,  1.34393149]])"
            ]
          },
          "metadata": {
            "tags": []
          },
          "execution_count": 3
        }
      ]
    },
    {
      "cell_type": "code",
      "metadata": {
        "colab": {
          "base_uri": "https://localhost:8080/"
        },
        "id": "FHIlgoHupg39",
        "outputId": "aec24d8b-9c55-461a-cea5-308b709e9bc5"
      },
      "source": [
        "np.cov(mat_dist).shape"
      ],
      "execution_count": null,
      "outputs": [
        {
          "output_type": "execute_result",
          "data": {
            "text/plain": [
              "(10000, 10000)"
            ]
          },
          "metadata": {
            "tags": []
          },
          "execution_count": 5
        }
      ]
    },
    {
      "cell_type": "code",
      "metadata": {
        "colab": {
          "base_uri": "https://localhost:8080/"
        },
        "id": "P74V0KWHqjWQ",
        "outputId": "4016f775-18fa-4156-be37-05d137a0d775"
      },
      "source": [
        "np.cov(mat_dist.T)"
      ],
      "execution_count": null,
      "outputs": [
        {
          "output_type": "execute_result",
          "data": {
            "text/plain": [
              "array([[ 0.99004157,  0.00410235,  0.00302303],\n",
              "       [ 0.00410235,  0.99177185, -0.00799463],\n",
              "       [ 0.00302303, -0.00799463,  0.98101272]])"
            ]
          },
          "metadata": {
            "tags": []
          },
          "execution_count": 6
        }
      ]
    },
    {
      "cell_type": "code",
      "metadata": {
        "colab": {
          "base_uri": "https://localhost:8080/"
        },
        "id": "9YDzQm_Eq0tf",
        "outputId": "c7c3e841-f649-4e31-8438-2e8b67e42932"
      },
      "source": [
        "np.cov(mat_dist, rowvar=False)"
      ],
      "execution_count": null,
      "outputs": [
        {
          "output_type": "execute_result",
          "data": {
            "text/plain": [
              "array([[ 0.99004157,  0.00410235,  0.00302303],\n",
              "       [ 0.00410235,  0.99177185, -0.00799463],\n",
              "       [ 0.00302303, -0.00799463,  0.98101272]])"
            ]
          },
          "metadata": {
            "tags": []
          },
          "execution_count": 7
        }
      ]
    },
    {
      "cell_type": "code",
      "metadata": {
        "colab": {
          "base_uri": "https://localhost:8080/"
        },
        "id": "7CLCZ0tTrHAT",
        "outputId": "d5bfd24f-aa8f-4d33-c3b7-b53760906def"
      },
      "source": [
        "np.random.randint(0, 10, size=(3, 3,))"
      ],
      "execution_count": null,
      "outputs": [
        {
          "output_type": "execute_result",
          "data": {
            "text/plain": [
              "array([[3, 3, 1],\n",
              "       [8, 2, 5],\n",
              "       [4, 7, 6]])"
            ]
          },
          "metadata": {
            "tags": []
          },
          "execution_count": 8
        }
      ]
    },
    {
      "cell_type": "code",
      "metadata": {
        "colab": {
          "base_uri": "https://localhost:8080/"
        },
        "id": "RpCGvoCQrfSZ",
        "outputId": "e87e7401-6fcd-4c0e-8610-ce8d149c6990"
      },
      "source": [
        "np.random.choice(10, size=(10000, ))    # or np.random.choice(10, size=10000, )"
      ],
      "execution_count": null,
      "outputs": [
        {
          "output_type": "execute_result",
          "data": {
            "text/plain": [
              "array([4, 1, 7, ..., 5, 2, 8])"
            ]
          },
          "metadata": {
            "tags": []
          },
          "execution_count": 13
        }
      ]
    },
    {
      "cell_type": "code",
      "metadata": {
        "colab": {
          "base_uri": "https://localhost:8080/"
        },
        "id": "2kMTQYRJr55k",
        "outputId": "511e86db-60ce-4123-f765-8dfd98dee0dd"
      },
      "source": [
        "np.random.choice(10, size=(3, 3))"
      ],
      "execution_count": null,
      "outputs": [
        {
          "output_type": "execute_result",
          "data": {
            "text/plain": [
              "array([[2, 8, 9],\n",
              "       [4, 7, 8],\n",
              "       [3, 2, 4]])"
            ]
          },
          "metadata": {
            "tags": []
          },
          "execution_count": 14
        }
      ]
    },
    {
      "cell_type": "code",
      "metadata": {
        "id": "37Gt3VSesKlN"
      },
      "source": [
        ""
      ],
      "execution_count": null,
      "outputs": []
    }
  ]
}